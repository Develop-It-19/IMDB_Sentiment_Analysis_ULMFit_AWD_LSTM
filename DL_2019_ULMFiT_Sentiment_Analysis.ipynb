{
  "nbformat": 4,
  "nbformat_minor": 0,
  "metadata": {
    "colab": {
      "name": "DL_2019_ULMFiT_Sentiment_Analysis.ipynb",
      "version": "0.3.2",
      "provenance": [],
      "collapsed_sections": [],
      "include_colab_link": true
    },
    "kernelspec": {
      "name": "python3",
      "display_name": "Python 3"
    }
  },
  "cells": [
    {
      "cell_type": "markdown",
      "metadata": {
        "id": "view-in-github",
        "colab_type": "text"
      },
      "source": [
        "<a href=\"https://colab.research.google.com/github/Develop-It-19/IMDB_Sentiment_Analysis_ULMFit_AWD_LSTM/blob/master/DL_2019_ULMFiT_Sentiment_Analysis.ipynb\" target=\"_parent\"><img src=\"https://colab.research.google.com/assets/colab-badge.svg\" alt=\"Open In Colab\"/></a>"
      ]
    },
    {
      "cell_type": "markdown",
      "metadata": {
        "id": "kHuejXYp8U7o",
        "colab_type": "text"
      },
      "source": [
        "# Import Dependencies and Create DataBunch"
      ]
    },
    {
      "cell_type": "code",
      "metadata": {
        "id": "1itcR3ZD7__a",
        "colab_type": "code",
        "colab": {}
      },
      "source": [
        "#Training an AWD-LSTM Model using a Transfer Learning approach called ULMFiT (Universal Language Model Fine-tuning for Text Classification) with IMDb Sample Dataset for Sentiment Analysis."
      ],
      "execution_count": 0,
      "outputs": []
    },
    {
      "cell_type": "code",
      "metadata": {
        "id": "jiknK4z48TnT",
        "colab_type": "code",
        "colab": {}
      },
      "source": [
        "from fastai.text import *"
      ],
      "execution_count": 0,
      "outputs": []
    },
    {
      "cell_type": "code",
      "metadata": {
        "id": "vB5tN5BG8vJb",
        "colab_type": "code",
        "outputId": "4d198887-20c1-4bb6-8ca2-9a88b07ba178",
        "colab": {
          "base_uri": "https://localhost:8080/",
          "height": 34
        }
      },
      "source": [
        "path = untar_data(URLs.IMDB_SAMPLE)\n",
        "path"
      ],
      "execution_count": 4,
      "outputs": [
        {
          "output_type": "execute_result",
          "data": {
            "text/plain": [
              "PosixPath('/root/.fastai/data/imdb_sample')"
            ]
          },
          "metadata": {
            "tags": []
          },
          "execution_count": 4
        }
      ]
    },
    {
      "cell_type": "code",
      "metadata": {
        "id": "WCIShdNS6yTB",
        "colab_type": "code",
        "outputId": "20d71427-b6f3-4e53-8cb5-44abb979e948",
        "colab": {
          "base_uri": "https://localhost:8080/",
          "height": 34
        }
      },
      "source": [
        "!ls {path}"
      ],
      "execution_count": 5,
      "outputs": [
        {
          "output_type": "stream",
          "text": [
            "texts.csv\n"
          ],
          "name": "stdout"
        }
      ]
    },
    {
      "cell_type": "code",
      "metadata": {
        "id": "yKDDf2Od8vCz",
        "colab_type": "code",
        "outputId": "cb06ddfd-ad31-4e78-b465-57cfafd2b15d",
        "colab": {
          "base_uri": "https://localhost:8080/",
          "height": 204
        }
      },
      "source": [
        "df = pd.read_csv(path/'texts.csv')\n",
        "df.head()"
      ],
      "execution_count": 6,
      "outputs": [
        {
          "output_type": "execute_result",
          "data": {
            "text/html": [
              "<div>\n",
              "<style scoped>\n",
              "    .dataframe tbody tr th:only-of-type {\n",
              "        vertical-align: middle;\n",
              "    }\n",
              "\n",
              "    .dataframe tbody tr th {\n",
              "        vertical-align: top;\n",
              "    }\n",
              "\n",
              "    .dataframe thead th {\n",
              "        text-align: right;\n",
              "    }\n",
              "</style>\n",
              "<table border=\"1\" class=\"dataframe\">\n",
              "  <thead>\n",
              "    <tr style=\"text-align: right;\">\n",
              "      <th></th>\n",
              "      <th>label</th>\n",
              "      <th>text</th>\n",
              "      <th>is_valid</th>\n",
              "    </tr>\n",
              "  </thead>\n",
              "  <tbody>\n",
              "    <tr>\n",
              "      <th>0</th>\n",
              "      <td>negative</td>\n",
              "      <td>Un-bleeping-believable! Meg Ryan doesn't even ...</td>\n",
              "      <td>False</td>\n",
              "    </tr>\n",
              "    <tr>\n",
              "      <th>1</th>\n",
              "      <td>positive</td>\n",
              "      <td>This is a extremely well-made film. The acting...</td>\n",
              "      <td>False</td>\n",
              "    </tr>\n",
              "    <tr>\n",
              "      <th>2</th>\n",
              "      <td>negative</td>\n",
              "      <td>Every once in a long while a movie will come a...</td>\n",
              "      <td>False</td>\n",
              "    </tr>\n",
              "    <tr>\n",
              "      <th>3</th>\n",
              "      <td>positive</td>\n",
              "      <td>Name just says it all. I watched this movie wi...</td>\n",
              "      <td>False</td>\n",
              "    </tr>\n",
              "    <tr>\n",
              "      <th>4</th>\n",
              "      <td>negative</td>\n",
              "      <td>This movie succeeds at being one of the most u...</td>\n",
              "      <td>False</td>\n",
              "    </tr>\n",
              "  </tbody>\n",
              "</table>\n",
              "</div>"
            ],
            "text/plain": [
              "      label                                               text  is_valid\n",
              "0  negative  Un-bleeping-believable! Meg Ryan doesn't even ...     False\n",
              "1  positive  This is a extremely well-made film. The acting...     False\n",
              "2  negative  Every once in a long while a movie will come a...     False\n",
              "3  positive  Name just says it all. I watched this movie wi...     False\n",
              "4  negative  This movie succeeds at being one of the most u...     False"
            ]
          },
          "metadata": {
            "tags": []
          },
          "execution_count": 6
        }
      ]
    },
    {
      "cell_type": "code",
      "metadata": {
        "id": "IKuRXd5e8u_F",
        "colab_type": "code",
        "colab": {}
      },
      "source": [
        "data_lm = TextLMDataBunch.from_csv(path, 'texts.csv')\n",
        "data_clas = TextClasDataBunch.from_csv(path, 'texts.csv', vocab = data_lm.train_ds.vocab, bs = 32)"
      ],
      "execution_count": 0,
      "outputs": []
    },
    {
      "cell_type": "code",
      "metadata": {
        "id": "aCtUGlsN8Mip",
        "colab_type": "code",
        "outputId": "bb2d5d64-b835-49dc-85e9-a3cc2e7b757a",
        "colab": {
          "base_uri": "https://localhost:8080/",
          "height": 289
        }
      },
      "source": [
        "data_lm.show_batch()"
      ],
      "execution_count": 8,
      "outputs": [
        {
          "output_type": "display_data",
          "data": {
            "text/html": [
              "<table border=\"1\" class=\"dataframe\">\n",
              "  <thead>\n",
              "    <tr style=\"text-align: right;\">\n",
              "      <th>idx</th>\n",
              "      <th>text</th>\n",
              "    </tr>\n",
              "  </thead>\n",
              "  <tbody>\n",
              "    <tr>\n",
              "      <td>0</td>\n",
              "      <td>savage killer , melting every step of the way , he is xxunk by his friend , xxmaj dr. xxmaj xxunk xxmaj nelson ( xxmaj burr debenning ) . \\n \\n  xxmaj this is often so xxunk funny - with enough absurd lines and situations to go around - that it 's hard for me to believe that the laughs are all xxunk . xxmaj it seems to me</td>\n",
              "    </tr>\n",
              "    <tr>\n",
              "      <td>1</td>\n",
              "      <td>xxmaj one becomes a character in a xxmaj king story they read , whereas xxmaj one is limited to petty xxunk of that same character when filmed . xxmaj for as long as xxmaj king writes , xxmaj hollywood will try shooting everything that comes out of his word xxunk , without any regard to whether or not they should . i do n't blame the filmmakers for trying ,</td>\n",
              "    </tr>\n",
              "    <tr>\n",
              "      <td>2</td>\n",
              "      <td>happen and i had to agree . xxmaj the xxmaj scene xxmaj that xxmaj explains xxmaj all was adequate and managed to explain all of the questions and mysterious dialogue bits throughout the movie but we were just checking them off a list . ( \" xxmaj oh , okay , that 's why xxmaj brad had that happen and xxmaj jonathan says this and ... \" ) \\n \\n</td>\n",
              "    </tr>\n",
              "    <tr>\n",
              "      <td>3</td>\n",
              "      <td>send this xxmaj uli xxmaj xxunk guy back to xxup movie xxup school . xxmaj who ever told him xxup he knew xxup how to make a movie ? xxmaj can just xxup anybody make movies these days ? xxmaj in the past , it always xxup required xxup talent before someone could make a movie . xxmaj after watching this lame xxup btk movie and the others he 's</td>\n",
              "    </tr>\n",
              "    <tr>\n",
              "      <td>4</td>\n",
              "      <td>training xxmaj day or xxmaj king xxmaj arthur , you will be impressed with the birth of this director in his second film xxmaj bait . xxmaj while xxmaj foxx gives a horrid , xxunk performance , there are certain scenes , which define xxmaj fuqua and demonstrate his brilliance behind the camera . xxmaj sadly it only xxunk in the final thirty minutes of the film , but if</td>\n",
              "    </tr>\n",
              "  </tbody>\n",
              "</table>"
            ],
            "text/plain": [
              "<IPython.core.display.HTML object>"
            ]
          },
          "metadata": {
            "tags": []
          }
        }
      ]
    },
    {
      "cell_type": "code",
      "metadata": {
        "id": "1P2uTIYmL6_o",
        "colab_type": "code",
        "colab": {}
      },
      "source": [
        "data_lm.save('data_lm_export.pkl')\n",
        "data_clas.save('data_clas_export.pkl')"
      ],
      "execution_count": 0,
      "outputs": []
    },
    {
      "cell_type": "code",
      "metadata": {
        "id": "tUq0Idc5L7d0",
        "colab_type": "code",
        "colab": {}
      },
      "source": [
        "data_lm = load_data(path, 'data_lm_export.pkl')\n",
        "data_clas = load_data(path, 'data_clas_export.pkl', bs = 16)"
      ],
      "execution_count": 0,
      "outputs": []
    },
    {
      "cell_type": "markdown",
      "metadata": {
        "id": "o_Upn_o_8VhG",
        "colab_type": "text"
      },
      "source": [
        "# Language Model Training, Testing and Interpretation"
      ]
    },
    {
      "cell_type": "code",
      "metadata": {
        "id": "UwfU8W_CQIwB",
        "colab_type": "code",
        "colab": {}
      },
      "source": [
        "#Language Modeling is the task of Predicting the next word or character in a document."
      ],
      "execution_count": 0,
      "outputs": []
    },
    {
      "cell_type": "code",
      "metadata": {
        "id": "dqqJlLFsZ1Ub",
        "colab_type": "code",
        "outputId": "f349a1ec-3e09-4114-8603-f679011beb01",
        "colab": {
          "base_uri": "https://localhost:8080/",
          "height": 289
        }
      },
      "source": [
        "data_lm.show_batch()"
      ],
      "execution_count": 12,
      "outputs": [
        {
          "output_type": "display_data",
          "data": {
            "text/html": [
              "<table border=\"1\" class=\"dataframe\">\n",
              "  <thead>\n",
              "    <tr style=\"text-align: right;\">\n",
              "      <th>idx</th>\n",
              "      <th>text</th>\n",
              "    </tr>\n",
              "  </thead>\n",
              "  <tbody>\n",
              "    <tr>\n",
              "      <td>0</td>\n",
              "      <td>savage killer , melting every step of the way , he is xxunk by his friend , xxmaj dr. xxmaj xxunk xxmaj nelson ( xxmaj burr debenning ) . \\n \\n  xxmaj this is often so xxunk funny - with enough absurd lines and situations to go around - that it 's hard for me to believe that the laughs are all xxunk . xxmaj it seems to me</td>\n",
              "    </tr>\n",
              "    <tr>\n",
              "      <td>1</td>\n",
              "      <td>xxmaj one becomes a character in a xxmaj king story they read , whereas xxmaj one is limited to petty xxunk of that same character when filmed . xxmaj for as long as xxmaj king writes , xxmaj hollywood will try shooting everything that comes out of his word xxunk , without any regard to whether or not they should . i do n't blame the filmmakers for trying ,</td>\n",
              "    </tr>\n",
              "    <tr>\n",
              "      <td>2</td>\n",
              "      <td>happen and i had to agree . xxmaj the xxmaj scene xxmaj that xxmaj explains xxmaj all was adequate and managed to explain all of the questions and mysterious dialogue bits throughout the movie but we were just checking them off a list . ( \" xxmaj oh , okay , that 's why xxmaj brad had that happen and xxmaj jonathan says this and ... \" ) \\n \\n</td>\n",
              "    </tr>\n",
              "    <tr>\n",
              "      <td>3</td>\n",
              "      <td>send this xxmaj uli xxmaj xxunk guy back to xxup movie xxup school . xxmaj who ever told him xxup he knew xxup how to make a movie ? xxmaj can just xxup anybody make movies these days ? xxmaj in the past , it always xxup required xxup talent before someone could make a movie . xxmaj after watching this lame xxup btk movie and the others he 's</td>\n",
              "    </tr>\n",
              "    <tr>\n",
              "      <td>4</td>\n",
              "      <td>training xxmaj day or xxmaj king xxmaj arthur , you will be impressed with the birth of this director in his second film xxmaj bait . xxmaj while xxmaj foxx gives a horrid , xxunk performance , there are certain scenes , which define xxmaj fuqua and demonstrate his brilliance behind the camera . xxmaj sadly it only xxunk in the final thirty minutes of the film , but if</td>\n",
              "    </tr>\n",
              "  </tbody>\n",
              "</table>"
            ],
            "text/plain": [
              "<IPython.core.display.HTML object>"
            ]
          },
          "metadata": {
            "tags": []
          }
        }
      ]
    },
    {
      "cell_type": "code",
      "metadata": {
        "id": "qoxtoBtj8Tkb",
        "colab_type": "code",
        "colab": {}
      },
      "source": [
        "learn = language_model_learner(data_lm, AWD_LSTM, drop_mult = 0.5)\n",
        "#AWD_LSTM stands for Averaged stocastic gradient descent with Weight Dropped LSTM.\n",
        "  #Drop Connect\n",
        "    #In Feed Forward and CNN's it is easier to use Dropout but in the case of RNN's we can't do that to hidden states becauses that hinders the ability of LSTM's long Term Dependencies.\n",
        "    #So we use Dropout on the weights connecting the hidden states rather than on the hidden states and cell states.\n",
        "  #ASGD\n",
        "    #It has been found that for the particular task of language modeling, traditional SGD without momentum outperforms other algorithms such as momentum SGD, Adam, Adagrad, and RMSProp.\n",
        "    #Therefore, the authors investigate a variant of the traditional SGD algorithm known as ASGD (Average SGD).\n",
        "    #It takes gradient update step identical to the SGD algorithm but instead of returning the weight computed in the current iteration, it also takes into account the weights of the previous iterations and returns an average."
      ],
      "execution_count": 0,
      "outputs": []
    },
    {
      "cell_type": "code",
      "metadata": {
        "id": "o9nX6KytZJJL",
        "colab_type": "code",
        "outputId": "ec97af33-2d26-4a61-e6a6-f50a957e8378",
        "colab": {
          "base_uri": "https://localhost:8080/",
          "height": 80
        }
      },
      "source": [
        "learn.fit_one_cycle(1, 1e-2)"
      ],
      "execution_count": 14,
      "outputs": [
        {
          "output_type": "display_data",
          "data": {
            "text/html": [
              "<table border=\"1\" class=\"dataframe\">\n",
              "  <thead>\n",
              "    <tr style=\"text-align: left;\">\n",
              "      <th>epoch</th>\n",
              "      <th>train_loss</th>\n",
              "      <th>valid_loss</th>\n",
              "      <th>accuracy</th>\n",
              "      <th>time</th>\n",
              "    </tr>\n",
              "  </thead>\n",
              "  <tbody>\n",
              "    <tr>\n",
              "      <td>0</td>\n",
              "      <td>4.501260</td>\n",
              "      <td>3.961216</td>\n",
              "      <td>0.285699</td>\n",
              "      <td>11:38</td>\n",
              "    </tr>\n",
              "  </tbody>\n",
              "</table>"
            ],
            "text/plain": [
              "<IPython.core.display.HTML object>"
            ]
          },
          "metadata": {
            "tags": []
          }
        }
      ]
    },
    {
      "cell_type": "code",
      "metadata": {
        "id": "2kMGqXx28The",
        "colab_type": "code",
        "colab": {}
      },
      "source": [
        "learn.unfreeze()"
      ],
      "execution_count": 0,
      "outputs": []
    },
    {
      "cell_type": "code",
      "metadata": {
        "id": "CFOdQzN78uRH",
        "colab_type": "code",
        "outputId": "61dfd789-8bf4-4e79-a42d-cef65c6ba179",
        "colab": {
          "base_uri": "https://localhost:8080/",
          "height": 80
        }
      },
      "source": [
        "learn.fit_one_cycle(1, 1e-3)"
      ],
      "execution_count": 16,
      "outputs": [
        {
          "output_type": "display_data",
          "data": {
            "text/html": [
              "<table border=\"1\" class=\"dataframe\">\n",
              "  <thead>\n",
              "    <tr style=\"text-align: left;\">\n",
              "      <th>epoch</th>\n",
              "      <th>train_loss</th>\n",
              "      <th>valid_loss</th>\n",
              "      <th>accuracy</th>\n",
              "      <th>time</th>\n",
              "    </tr>\n",
              "  </thead>\n",
              "  <tbody>\n",
              "    <tr>\n",
              "      <td>0</td>\n",
              "      <td>4.159203</td>\n",
              "      <td>3.868247</td>\n",
              "      <td>0.293229</td>\n",
              "      <td>17:56</td>\n",
              "    </tr>\n",
              "  </tbody>\n",
              "</table>"
            ],
            "text/plain": [
              "<IPython.core.display.HTML object>"
            ]
          },
          "metadata": {
            "tags": []
          }
        }
      ]
    },
    {
      "cell_type": "code",
      "metadata": {
        "id": "ZwPVzsJSMfOY",
        "colab_type": "code",
        "colab": {}
      },
      "source": [
        "#That Accuracy is a good one as it is a language model.\n",
        "#Our Pretrained Model is trained on WikiText-103 Dataset.\n",
        "#On GPT-2 by using WikiText-103 the test perplexity = 17.48 \n",
        "#On Transformer-XL Large by using WikiText-103 the test perplexity = 18.3\n",
        "\n",
        "#Perplexity:\n",
        "  #Perplexity is a measurement of how well a probability distribution or probability model predicts a sample.\n",
        "  #It may be used to compare probability models.\n",
        "  #A low perplexity indicates the probability distribution is good at predicting the sample."
      ],
      "execution_count": 0,
      "outputs": []
    },
    {
      "cell_type": "markdown",
      "metadata": {
        "id": "8SMUKYli8WOD",
        "colab_type": "text"
      },
      "source": [
        "# Prediction - Inference"
      ]
    },
    {
      "cell_type": "code",
      "metadata": {
        "id": "DKItJ1UQTCD3",
        "colab_type": "code",
        "colab": {
          "base_uri": "https://localhost:8080/",
          "height": 34
        },
        "outputId": "5bda045f-d08c-4d29-a9d7-8fe371c6ed07"
      },
      "source": [
        "learn.predict('The Movie', n_words = 10)"
      ],
      "execution_count": 60,
      "outputs": [
        {
          "output_type": "execute_result",
          "data": {
            "text/plain": [
              "'The Movie Preview started running over box office at a church'"
            ]
          },
          "metadata": {
            "tags": []
          },
          "execution_count": 60
        }
      ]
    },
    {
      "cell_type": "code",
      "metadata": {
        "id": "8PfXozaS8th3",
        "colab_type": "code",
        "colab": {}
      },
      "source": [
        "learn.save_encoder('ft_enc')"
      ],
      "execution_count": 0,
      "outputs": []
    },
    {
      "cell_type": "markdown",
      "metadata": {
        "id": "9i_lKlOfUysg",
        "colab_type": "text"
      },
      "source": [
        "# Classifier Training, Testing and Interpretation."
      ]
    },
    {
      "cell_type": "code",
      "metadata": {
        "id": "VYuDO6tsPPPN",
        "colab_type": "code",
        "colab": {}
      },
      "source": [
        "#Sentiment Analysis is the task of Classifying the Polarity of a given Text."
      ],
      "execution_count": 0,
      "outputs": []
    },
    {
      "cell_type": "code",
      "metadata": {
        "id": "G2Sa9U96Zxsx",
        "colab_type": "code",
        "outputId": "53c12d71-ef6b-4516-8fbd-8a58ec7c9d26",
        "colab": {
          "base_uri": "https://localhost:8080/",
          "height": 289
        }
      },
      "source": [
        "data_clas.show_batch()"
      ],
      "execution_count": 63,
      "outputs": [
        {
          "output_type": "display_data",
          "data": {
            "text/html": [
              "<table border=\"1\" class=\"dataframe\">\n",
              "  <thead>\n",
              "    <tr style=\"text-align: right;\">\n",
              "      <th>text</th>\n",
              "      <th>target</th>\n",
              "    </tr>\n",
              "  </thead>\n",
              "  <tbody>\n",
              "    <tr>\n",
              "      <td>xxbos xxmaj xxunk xxmaj victor xxmaj xxunk : a xxmaj review \\n \\n  xxmaj you know , xxmaj xxunk xxmaj victor xxmaj xxunk is like sticking your hands into a big , xxunk xxunk of xxunk . xxmaj it 's warm and xxunk , but you 're not sure if it feels right . xxmaj try as i might , no matter how warm and xxunk xxmaj xxunk xxmaj</td>\n",
              "      <td>negative</td>\n",
              "    </tr>\n",
              "    <tr>\n",
              "      <td>xxbos xxup the xxup shop xxup around xxup the xxup corner is one of the xxunk and most feel - good romantic comedies ever made . xxmaj there 's just no getting around that , and it 's hard to actually put one 's feeling for this film into words . xxmaj it 's not one of those films that tries too hard , nor does it come up with</td>\n",
              "      <td>positive</td>\n",
              "    </tr>\n",
              "    <tr>\n",
              "      <td>xxbos xxmaj now that xxmaj che(2008 ) has finished its relatively short xxmaj australian cinema run ( extremely limited xxunk screen in xxmaj sydney , after xxunk ) , i can xxunk join both xxunk of \" xxmaj at xxmaj the xxmaj movies \" in taking xxmaj steven xxmaj soderbergh to task . \\n \\n  xxmaj it 's usually satisfying to watch a film director change his style /</td>\n",
              "      <td>negative</td>\n",
              "    </tr>\n",
              "    <tr>\n",
              "      <td>xxbos xxmaj this film sat on my xxmaj xxunk for weeks before i watched it . i xxunk a self - indulgent xxunk flick about relationships gone bad . i was wrong ; this was an xxunk xxunk into the screwed - up xxunk of xxmaj new xxmaj xxunk . \\n \\n  xxmaj the format is the same as xxmaj xxunk xxmaj xxunk ' \" xxmaj la xxmaj xxunk</td>\n",
              "      <td>positive</td>\n",
              "    </tr>\n",
              "    <tr>\n",
              "      <td>xxbos xxmaj many neglect that this is n't just a classic due to the fact that it 's the first xxup 3d game , or even the first xxunk - up . xxmaj it 's also one of the first stealth games , one of the xxunk definitely the first ) truly claustrophobic games , and just a pretty well - rounded gaming experience in general . xxmaj with graphics</td>\n",
              "      <td>positive</td>\n",
              "    </tr>\n",
              "  </tbody>\n",
              "</table>"
            ],
            "text/plain": [
              "<IPython.core.display.HTML object>"
            ]
          },
          "metadata": {
            "tags": []
          }
        }
      ]
    },
    {
      "cell_type": "code",
      "metadata": {
        "id": "M8vS0uq5VB7_",
        "colab_type": "code",
        "colab": {}
      },
      "source": [
        "learn = text_classifier_learner(data_clas, AWD_LSTM, drop_mult = 0.5)"
      ],
      "execution_count": 0,
      "outputs": []
    },
    {
      "cell_type": "code",
      "metadata": {
        "id": "pNFy0mc8h36U",
        "colab_type": "code",
        "colab": {}
      },
      "source": [
        "learn.load_encoder('ft_enc')"
      ],
      "execution_count": 0,
      "outputs": []
    },
    {
      "cell_type": "code",
      "metadata": {
        "id": "OUQ0ufD_VCev",
        "colab_type": "code",
        "outputId": "dca303e4-6e02-4bbb-9ef2-209c49887a7d",
        "colab": {
          "base_uri": "https://localhost:8080/",
          "height": 80
        }
      },
      "source": [
        "learn.fit_one_cycle(1, 1e-2)"
      ],
      "execution_count": 66,
      "outputs": [
        {
          "output_type": "display_data",
          "data": {
            "text/html": [
              "<table border=\"1\" class=\"dataframe\">\n",
              "  <thead>\n",
              "    <tr style=\"text-align: left;\">\n",
              "      <th>epoch</th>\n",
              "      <th>train_loss</th>\n",
              "      <th>valid_loss</th>\n",
              "      <th>accuracy</th>\n",
              "      <th>time</th>\n",
              "    </tr>\n",
              "  </thead>\n",
              "  <tbody>\n",
              "    <tr>\n",
              "      <td>0</td>\n",
              "      <td>0.573762</td>\n",
              "      <td>0.546005</td>\n",
              "      <td>0.766169</td>\n",
              "      <td>08:53</td>\n",
              "    </tr>\n",
              "  </tbody>\n",
              "</table>"
            ],
            "text/plain": [
              "<IPython.core.display.HTML object>"
            ]
          },
          "metadata": {
            "tags": []
          }
        }
      ]
    },
    {
      "cell_type": "code",
      "metadata": {
        "id": "DyeE_ZRNVCch",
        "colab_type": "code",
        "colab": {}
      },
      "source": [
        "learn.freeze_to(-2)"
      ],
      "execution_count": 0,
      "outputs": []
    },
    {
      "cell_type": "code",
      "metadata": {
        "id": "2F9boELjWYab",
        "colab_type": "code",
        "outputId": "ef5c479d-d1d3-4d0c-f8b3-f4c08eddf559",
        "colab": {
          "base_uri": "https://localhost:8080/",
          "height": 80
        }
      },
      "source": [
        "learn.fit_one_cycle(1, slice(5e-3/2., 5e-3))"
      ],
      "execution_count": 68,
      "outputs": [
        {
          "output_type": "display_data",
          "data": {
            "text/html": [
              "<table border=\"1\" class=\"dataframe\">\n",
              "  <thead>\n",
              "    <tr style=\"text-align: left;\">\n",
              "      <th>epoch</th>\n",
              "      <th>train_loss</th>\n",
              "      <th>valid_loss</th>\n",
              "      <th>accuracy</th>\n",
              "      <th>time</th>\n",
              "    </tr>\n",
              "  </thead>\n",
              "  <tbody>\n",
              "    <tr>\n",
              "      <td>0</td>\n",
              "      <td>0.537411</td>\n",
              "      <td>0.473649</td>\n",
              "      <td>0.781095</td>\n",
              "      <td>12:06</td>\n",
              "    </tr>\n",
              "  </tbody>\n",
              "</table>"
            ],
            "text/plain": [
              "<IPython.core.display.HTML object>"
            ]
          },
          "metadata": {
            "tags": []
          }
        }
      ]
    },
    {
      "cell_type": "code",
      "metadata": {
        "id": "KMDEoCzeWkDd",
        "colab_type": "code",
        "colab": {}
      },
      "source": [
        "learn.unfreeze()"
      ],
      "execution_count": 0,
      "outputs": []
    },
    {
      "cell_type": "code",
      "metadata": {
        "id": "3jYio62nWnLi",
        "colab_type": "code",
        "outputId": "756fb82e-373e-4953-9215-fd6e624fa505",
        "colab": {
          "base_uri": "https://localhost:8080/",
          "height": 80
        }
      },
      "source": [
        "learn.fit_one_cycle(1, slice(2e-3/100., 2e-3))"
      ],
      "execution_count": 70,
      "outputs": [
        {
          "output_type": "display_data",
          "data": {
            "text/html": [
              "<table border=\"1\" class=\"dataframe\">\n",
              "  <thead>\n",
              "    <tr style=\"text-align: left;\">\n",
              "      <th>epoch</th>\n",
              "      <th>train_loss</th>\n",
              "      <th>valid_loss</th>\n",
              "      <th>accuracy</th>\n",
              "      <th>time</th>\n",
              "    </tr>\n",
              "  </thead>\n",
              "  <tbody>\n",
              "    <tr>\n",
              "      <td>0</td>\n",
              "      <td>0.466473</td>\n",
              "      <td>0.449686</td>\n",
              "      <td>0.855721</td>\n",
              "      <td>37:04</td>\n",
              "    </tr>\n",
              "  </tbody>\n",
              "</table>"
            ],
            "text/plain": [
              "<IPython.core.display.HTML object>"
            ]
          },
          "metadata": {
            "tags": []
          }
        }
      ]
    },
    {
      "cell_type": "code",
      "metadata": {
        "id": "jzDIYFC3W0be",
        "colab_type": "code",
        "outputId": "660a382b-3538-4b21-89c2-00b37a6d3d36",
        "colab": {
          "base_uri": "https://localhost:8080/",
          "height": 34
        }
      },
      "source": [
        "learn.predict(\"This is a good movie\")"
      ],
      "execution_count": 82,
      "outputs": [
        {
          "output_type": "execute_result",
          "data": {
            "text/plain": [
              "(Category positive, tensor(1), tensor([0.0043, 0.9957]))"
            ]
          },
          "metadata": {
            "tags": []
          },
          "execution_count": 82
        }
      ]
    },
    {
      "cell_type": "code",
      "metadata": {
        "id": "OhJKKEb7aGjv",
        "colab_type": "code",
        "colab": {}
      },
      "source": [
        "learn.save('stage-1')"
      ],
      "execution_count": 0,
      "outputs": []
    },
    {
      "cell_type": "code",
      "metadata": {
        "id": "3IXvE7Z5aQ0h",
        "colab_type": "code",
        "colab": {}
      },
      "source": [
        "#We achieved an Accuracy of 85.5%."
      ],
      "execution_count": 0,
      "outputs": []
    }
  ]
}